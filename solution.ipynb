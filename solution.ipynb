{
 "cells": [
  {
   "cell_type": "code",
   "execution_count": 1,
   "metadata": {},
   "outputs": [],
   "source": [
    "from summarization_pipeline.pdf_section_extractor import extract_pdf_and_divide_sections\n",
    "from summarization_pipeline.extractor import Extractor\n",
    "from summarization_pipeline.image_processing import extract_image_title_pairs, extract_titles_from_page, convert_response_to_list, get_important_image_paths"
   ]
  },
  {
   "cell_type": "code",
   "execution_count": 11,
   "metadata": {},
   "outputs": [],
   "source": [
    "# Initializing the Extractor class for sending prompts to the LLaMA 2 70B model\n",
    "\n",
    "extractor = Extractor()"
   ]
  },
  {
   "cell_type": "code",
   "execution_count": 2,
   "metadata": {},
   "outputs": [],
   "source": [
    "# Getting and preprocessing PDF input\n",
    "\n",
    "business_pdf1_path = \"/Users/selinceydeli/Desktop/AIResearch/business-article-inputs/buss_article.pdf\"\n",
    "sections_dict = extract_pdf_and_divide_sections(business_pdf1_path)"
   ]
  },
  {
   "cell_type": "code",
   "execution_count": 14,
   "metadata": {},
   "outputs": [
    {
     "name": "stdout",
     "output_type": "stream",
     "text": [
      "Abstract:    \n",
      "Business cycles (BCs) can alter the conditions for long-term business-to-business (B2B) relationships. Based on \n",
      "relationship marketing (RM) and interorganizational learning theories, the authors propose a model that explains \n",
      "relationship configurations that reveal opportunities under economic uncertainty. In the Pilot Study, the authors \n",
      "identify key mechanisms of RM process (communication openness, technical involvement, and customer value \n",
      "anticipation) and performance outcomes (price, cost-to-serve, and expectation of relationship continuity) from \n",
      "the supplier’s view. In Study 1, the proposed model is tested with a sample of large size, market leader firms in \n",
      "times of economic crisis (T1). In Study 2, conducting a multi-group analysis, the same sample is used to test the \n",
      "model in times of recovery/expansion (T2). The findings offer directions for suppliers on how to leverage B2B \n",
      "relationships through a BC. Particularly, the authors indicate that supplier’s performance is influenced differ-\n",
      "ently by RM mechanisms during times of economic crisis versus times of recovery/expansion.   \n",
      "\n",
      "\n",
      "Important section titles:\n",
      "introduction\n",
      "conclusion\n",
      "discussion\n",
      "methodology\n",
      "managerial implications\n",
      "theoretical implications\n",
      "general discussion\n",
      "study  multigroup analysis after the crisis\n"
     ]
    }
   ],
   "source": [
    "# Extracting section texts of important sections \n",
    "\n",
    "abstract = sections_dict.get('abstract', \"\")\n",
    "print(\"Abstract: \" + abstract + \"\\n\")\n",
    "\n",
    "critical_sections = [\"introduction\", \"conclusion\", \"discussion\", \"methodology\"]\n",
    "\n",
    "critical_section_information = {}\n",
    "for section_name in critical_sections:\n",
    "  critical_section_information[section_name] = sections_dict.get(section_name, \"\")\n",
    "\n",
    "\"\"\"\n",
    "If at least two of the sections among \"conclusion\", \"discussion\", and \"outcomes\" are missing, \n",
    "then take the last four sections (we keep each subsection seperately in the current formulation of sections_dict) \n",
    "of the article (excluding keywords, acknowledgments, and references sections)\n",
    "\"\"\"\n",
    "check_for_absence = \"\"\n",
    "critical_section_list = list(critical_section_information.items())\n",
    "for section_name, section_text in critical_section_list[-3:]:\n",
    "    if section_text == \"\": check_for_absence += '0'\n",
    "\n",
    "if len(check_for_absence) >= 2:\n",
    "    accepted = 0\n",
    "    unwanted_sections = [\"keywords\", \"acknowledgments\", \"references\"]\n",
    "    sections_list = list(sections_dict.items())\n",
    "    for section_name, section_text in sections_list[::-1]: # Reverse iteration of the sections_list\n",
    "        section_name = section_name.lower()\n",
    "        section_text = sections_dict.get(section_name, \"\")\n",
    "        if section_name not in unwanted_sections and section_text != \"\":\n",
    "            critical_section_information[section_name] = section_text\n",
    "            accepted += 1\n",
    "            if accepted >= 4:\n",
    "                break\n",
    "\n",
    "print(\"Important section titles:\")\n",
    "for key, value in critical_section_information.items():\n",
    "    print(key)"
   ]
  },
  {
   "cell_type": "code",
   "execution_count": 4,
   "metadata": {},
   "outputs": [
    {
     "name": "stdout",
     "output_type": "stream",
     "text": [
      "Summary of introduction: \n",
      " This article discusses the importance of relationship marketing (RM) in business-to-business settings during economic contraction and expansion. It highlights the need for firms to adapt their RM strategies during economic fluctuations, citing previous research that has focused on general strategies for managing relationship performance. The authors argue that there is a lack of research integrating a business cycle (BC), an industrial setting, and an emerging economy, and aim to contribute to this body of research by studying the impact of RM process on determining the specific contribution of long-life customers in emerging economies during periods of contraction and expansion. They identify key relationship process mechanisms that help suppliers sustain or increase performance from their B2B long-life customers during economic swings, including communication openness, technical involvement, and customer value anticipation. The article concludes by emphasizing the timeliness and necessity of this study, especially in light of current crises such as the coronavirus situation and Ukraine conflict.\n",
      "Summary of managerial implications: \n",
      " This section discusses the managerial implications of the proposed Relationship Mechanism (RM) mechanisms for business-to-business (B2B) relationships during economic crises and recoveries. The authors suggest a 2x3 matrix with six quadrants, each representing a different combination of the three RM mechanisms: communication openness (COM), technical involvement (INV), and customer value anticipation (CVA). Each quadrant is named based on the empirical results and includes strategies for effectively managing each quadrant. The strategies include:\n",
      "\n",
      "1. Value anticipation based on distant communication: Suppliers should reduce INV with customers while increasing CVA during economic crises. They can use communication media like email and telephone to establish high levels of communication without increasing technical collaboration.\n",
      "2. Cost-oriented joint collaboration: During economic crises, suppliers should establish strong INV with customers while keeping ideas associated with customer value for future times. This can be achieved by concentrating technical work on cost-reducing opportunities and generating savings for both actors.\n",
      "3. Dyadic top management consensus: To enhance expectation of continuity (EC) during economic crises, suppliers should exploit top management consensus with customers, nudging top managers to reach consensus on how to face the economic crisis together.\n",
      "4. Generative hard work: During times of economic recovery, suppliers can increase PR by leveraging their ability to be technically involved with customers, having compatible top managers, and anticipating customer value altogether. INV is the most influential factor in this scenario.\n",
      "5. Controlled technical deescalating: To reduce CTS during times of recovery, suppliers should carefully deescalate INV without affecting CVA or TMC.\n",
      "6. Integrated optimal balance: During times of recovery, suppliers can integrate efforts on INV, CVA, and TMC to construct synergies and enhance EC. CVA and TMC are recommended as primary mechanisms since they do not have a negative impact on other goals during times of recovery.\n",
      "Summary of theoretical implications: \n",
      " This section discusses the theoretical implications of the study's findings on business-to-business (B2B) relationships during economic downturns. The authors argue that their findings have important implications for theory, as they provide insights into how B2B relationships can help firms navigate economic uncertainty. They extend previous research streams by showing that a BC brings profitability opportunities for B2B suppliers through nurturing mechanisms from long-term dyadic exchange. Additionally, they contribute to the \"dark side\" of B2B relationships' theoretical underpinnings by demonstrating how the inherent tension created in a BC can be managed through relationship management (RM) mechanisms. Finally, they note that their study contributes to extending BC marketing literature outside of the often-used US environment and provides insights into B2B relationships in emerging markets.\n",
      "Summary of general discussion: \n",
      " This research aims to provide guidance for managing an industrial business through a business cycle (BC) using marketing research, which has not been well-explored previously. The study focuses on the impact of price, cost-to-serve, and expectation of continuity variations during a BC in an emerging economy. Using a process approach with a temporal structure, the study finds that large size and market leader suppliers can survive and thrive through a BC by employing different relationship management mechanisms.\n",
      "Summary of study  multigroup analysis after the crisis: \n",
      " This article examines how different economic conditions affect the relevance of several relationship management mechanisms\n"
     ]
    }
   ],
   "source": [
    "# Summarizing important sections\n",
    "    \n",
    "summarized_sections = {}\n",
    "for section_name, section_text in critical_section_information.items():\n",
    "    if section_text != \"\": \n",
    "        summary = extractor.summarize(section_name, section_text)\n",
    "        summarized_sections[section_name] = summary\n",
    "        print(\"Summary of \" + section_name + \": \\n\" + summary)\n",
    "    else : summarized_sections[section_name] = None"
   ]
  },
  {
   "cell_type": "code",
   "execution_count": null,
   "metadata": {},
   "outputs": [],
   "source": [
    "# Hardcoded summarized sections\n",
    "\n",
    "summarized_sections = '''\n",
    "Summary of introduction: \n",
    " This article discusses the importance of relationship marketing (RM) in business-to-business settings during economic contraction and expansion. It highlights the need for firms to adapt their RM strategies during economic fluctuations, citing previous research that has focused on general strategies for managing relationship performance. The authors argue that there is a lack of research integrating a business cycle (BC), an industrial setting, and an emerging economy, and aim to contribute to this body of research by studying the impact of RM process on determining the specific contribution of long-life customers in emerging economies during periods of contraction and expansion. They identify key relationship process mechanisms that help suppliers sustain or increase performance from their B2B long-life customers during economic swings, including communication openness, technical involvement, and customer value anticipation. The article concludes by emphasizing the timeliness and necessity of this study, especially in light of current crises such as the coronavirus situation and Ukraine conflict.\n",
    "Summary of managerial implications: \n",
    " This section discusses the managerial implications of the proposed Relationship Mechanism (RM) mechanisms for business-to-business (B2B) relationships during economic crises and recoveries. The authors suggest a 2x3 matrix with six quadrants, each representing a different combination of the three RM mechanisms: communication openness (COM), technical involvement (INV), and customer value anticipation (CVA). Each quadrant is named based on the empirical results and includes strategies for effectively managing each quadrant. The strategies include:\n",
    "\n",
    "1. Value anticipation based on distant communication: Suppliers should reduce INV with customers while increasing CVA during economic crises. They can use communication media like email and telephone to establish high levels of communication without increasing technical collaboration.\n",
    "2. Cost-oriented joint collaboration: During economic crises, suppliers should establish strong INV with customers while keeping ideas associated with customer value for future times. This can be achieved by concentrating technical work on cost-reducing opportunities and generating savings for both actors.\n",
    "3. Dyadic top management consensus: To enhance expectation of continuity (EC) during economic crises, suppliers should exploit top management consensus with customers, nudging top managers to reach consensus on how to face the economic crisis together.\n",
    "4. Generative hard work: During times of economic recovery, suppliers can increase PR by leveraging their ability to be technically involved with customers, having compatible top managers, and anticipating customer value altogether. INV is the most influential factor in this scenario.\n",
    "5. Controlled technical deescalating: To reduce CTS during times of recovery, suppliers should carefully deescalate INV without affecting CVA or TMC.\n",
    "6. Integrated optimal balance: During times of recovery, suppliers can integrate efforts on INV, CVA, and TMC to construct synergies and enhance EC. CVA and TMC are recommended as primary mechanisms since they do not have a negative impact on other goals during times of recovery.\n",
    "Summary of theoretical implications: \n",
    " This section discusses the theoretical implications of the study's findings on business-to-business (B2B) relationships during economic downturns. The authors argue that their findings have important implications for theory, as they provide insights into how B2B relationships can help firms navigate economic uncertainty. They extend previous research streams by showing that a BC brings profitability opportunities for B2B suppliers through nurturing mechanisms from long-term dyadic exchange. Additionally, they contribute to the \"dark side\" of B2B relationships' theoretical underpinnings by demonstrating how the inherent tension created in a BC can be managed through relationship management (RM) mechanisms. Finally, they note that their study contributes to extending BC marketing literature outside of the often-used US environment and provides insights into B2B relationships in emerging markets.\n",
    "Summary of general discussion: \n",
    " This research aims to provide guidance for managing an industrial business through a business cycle (BC) using marketing research, which has not been well-explored previously. The study focuses on the impact of price, cost-to-serve, and expectation of continuity variations during a BC in an emerging economy. Using a process approach with a temporal structure, the study finds that large size and market leader suppliers can survive and thrive through a BC by employing different relationship management mechanisms.\n",
    "Summary of study  multigroup analysis after the crisis: \n",
    " This article examines how different economic conditions affect the relevance of several relationship management mechanisms\n",
    "'''"
   ]
  },
  {
   "cell_type": "code",
   "execution_count": 19,
   "metadata": {},
   "outputs": [],
   "source": [
    "# Converting the section text information from dictionary to string\n",
    "# to feed it to the model as input\n",
    "\n",
    "def create_section_input(summarized_sections):\n",
    "    # Initialize an empty string to store the formatted output\n",
    "    section_input = \"\"\n",
    "\n",
    "    # Iterate over each key-value pair in the dictionary\n",
    "    for key, value in summarized_sections.items():\n",
    "        # Append the key and value to the string with the specified format\n",
    "        section_input += f\"{key}: {value} \\n\"\n",
    "\n",
    "    return section_input\n",
    "\n",
    "section_input = create_section_input(summarized_sections)"
   ]
  },
  {
   "cell_type": "code",
   "execution_count": 12,
   "metadata": {},
   "outputs": [
    {
     "name": "stdout",
     "output_type": "stream",
     "text": [
      " This study explores the impact of business cycles (BCs) on long-term business-to-business (B2B) relationships and investigates the role of relationship marketing (RM) mechanisms in navigating economic uncertainty. Based on RM and interorganizational learning theories, the authors identify three RM mechanisms - communication openness, technical involvement, and customer value anticipation - and examine their effect on performance outcomes such as price, cost-to-serve, and expectation of relationship continuity.\n",
      "\n",
      "The study consists of two parts. In Study 1, the authors test the proposed model during an economic crisis (T1) using a sample of large size, market leader firms. In Study 2, they conduct a multi-group analysis to test the model in times of recovery/expansion (T2) using the same sample. The findings provide guidance for suppliers on how to leverage B2B relationships through a BC, revealing that supplier performance is influenced differently by RM mechanisms during times of economic crisis versus times of recovery/expansion.\n",
      "\n",
      "The study contributes to the theoretical underpinnings of B2B relationships, extending previous research streams by demonstrating how a BC brings profitability opportunities for B2B suppliers through nurturing mechanisms from long-term dyadic exchange. Additionally, it provides insights into B2B relationships in emerging markets and offers strategies for effectively managing six quadrants represented by different combinations of the three RM mechanisms.\n",
      "\n",
      "Overall, the study highlights the importance of adapting RM strategies during economic fluctuations and offers valuable recommendations for businesses looking to sustain or increase their performance during periods of economic uncertainty.\n"
     ]
    }
   ],
   "source": [
    "# Enriching the abstract\n",
    "\n",
    "enriched_abstract = extractor.enrich_abstract(section_input, abstract)\n",
    "print(enriched_abstract)"
   ]
  },
  {
   "cell_type": "code",
   "execution_count": null,
   "metadata": {},
   "outputs": [],
   "source": [
    "# Hardcoded enriched abstract\n",
    "\n",
    "enriched_abstract = '''\n",
    "This study explores the impact of business cycles (BCs) on long-term business-to-business (B2B) relationships and investigates the role of relationship marketing (RM) mechanisms in navigating economic uncertainty. Based on RM and interorganizational learning theories, the authors identify three RM mechanisms - communication openness, technical involvement, and customer value anticipation - and examine their effect on performance outcomes such as price, cost-to-serve, and expectation of relationship continuity.\n",
    "\n",
    "The study consists of two parts. In Study 1, the authors test the proposed model during an economic crisis (T1) using a sample of large size, market leader firms. In Study 2, they conduct a multi-group analysis to test the model in times of recovery/expansion (T2) using the same sample. The findings provide guidance for suppliers on how to leverage B2B relationships through a BC, revealing that supplier performance is influenced differently by RM mechanisms during times of economic crisis versus times of recovery/expansion.\n",
    "\n",
    "The study contributes to the theoretical underpinnings of B2B relationships, extending previous research streams by demonstrating how a BC brings profitability opportunities for B2B suppliers through nurturing mechanisms from long-term dyadic exchange. Additionally, it provides insights into B2B relationships in emerging markets and offers strategies for effectively managing six quadrants represented by different combinations of the three RM mechanisms.\n",
    "\n",
    "Overall, the study highlights the importance of adapting RM strategies during economic fluctuations and offers valuable recommendations for businesses looking to sustain or increase their performance during periods of economic uncertainty.\n",
    "'''"
   ]
  },
  {
   "cell_type": "code",
   "execution_count": 23,
   "metadata": {},
   "outputs": [
    {
     "name": "stdout",
     "output_type": "stream",
     "text": [
      "abstract:    \n",
      "Business cycles (BCs) can alter the conditions for long-term business-to-business (B2B) relationships. Based on \n",
      "relationship marketing (RM) and interorganizational learning theories, the authors propose a model that explains \n",
      "relationship configurations that reveal opportunities under economic uncertainty. In the Pilot Study, the authors \n",
      "identify key mechanisms of RM process (communication openness, technical involvement, and customer value \n",
      "anticipation) and performance outcomes (price, cost-to-serve, and expectation of relationship continuity) from \n",
      "the supplier’s view. In Study 1, the proposed model is tested with a sample of large size, market leader firms in \n",
      "times of economic crisis (T1). In Study 2, conducting a multi-group analysis, the same sample is used to test the \n",
      "model in times of recovery/expansion (T2). The findings offer directions for suppliers on how to leverage B2B \n",
      "relationships through a BC. Particularly, the authors indicate that supplier’s performance is influenced differ-\n",
      "ently by RM mechanisms during times of economic crisis versus times of recovery/expansion.   \n",
      "introduction:  This article discusses the importance of relationship marketing (RM) in business-to-business settings during economic contraction and expansion. It highlights the need for firms to adapt their RM strategies during economic fluctuations, citing previous research that has focused on general strategies for managing relationship performance. The authors argue that there is a lack of research integrating a business cycle (BC), an industrial setting, and an emerging economy, and aim to contribute to this body of research by studying the impact of RM process on determining the specific contribution of long-life customers in emerging economies during periods of contraction and expansion. They identify key relationship process mechanisms that help suppliers sustain or increase performance from their B2B long-life customers during economic swings, including communication openness, technical involvement, and customer value anticipation. The article concludes by emphasizing the timeliness and necessity of this study, especially in light of current crises such as the coronavirus situation and Ukraine conflict. \n",
      "conclusion: None \n",
      "discussion: None \n",
      "methodology: None \n",
      "managerial implications:  This section discusses the managerial implications of the proposed Relationship Mechanism (RM) mechanisms for business-to-business (B2B) relationships during economic crises and recoveries. The authors suggest a 2x3 matrix with six quadrants, each representing a different combination of the three RM mechanisms: communication openness (COM), technical involvement (INV), and customer value anticipation (CVA). Each quadrant is named based on the empirical results and includes strategies for effectively managing each quadrant. The strategies include:\n",
      "\n",
      "1. Value anticipation based on distant communication: Suppliers should reduce INV with customers while increasing CVA during economic crises. They can use communication media like email and telephone to establish high levels of communication without increasing technical collaboration.\n",
      "2. Cost-oriented joint collaboration: During economic crises, suppliers should establish strong INV with customers while keeping ideas associated with customer value for future times. This can be achieved by concentrating technical work on cost-reducing opportunities and generating savings for both actors.\n",
      "3. Dyadic top management consensus: To enhance expectation of continuity (EC) during economic crises, suppliers should exploit top management consensus with customers, nudging top managers to reach consensus on how to face the economic crisis together.\n",
      "4. Generative hard work: During times of economic recovery, suppliers can increase PR by leveraging their ability to be technically involved with customers, having compatible top managers, and anticipating customer value altogether. INV is the most influential factor in this scenario.\n",
      "5. Controlled technical deescalating: To reduce CTS during times of recovery, suppliers should carefully deescalate INV without affecting CVA or TMC.\n",
      "6. Integrated optimal balance: During times of recovery, suppliers can integrate efforts on INV, CVA, and TMC to construct synergies and enhance EC. CVA and TMC are recommended as primary mechanisms since they do not have a negative impact on other goals during times of recovery. \n",
      "theoretical implications:  This section discusses the theoretical implications of the study's findings on business-to-business (B2B) relationships during economic downturns. The authors argue that their findings have important implications for theory, as they provide insights into how B2B relationships can help firms navigate economic uncertainty. They extend previous research streams by showing that a BC brings profitability opportunities for B2B suppliers through nurturing mechanisms from long-term dyadic exchange. Additionally, they contribute to the \"dark side\" of B2B relationships' theoretical underpinnings by demonstrating how the inherent tension created in a BC can be managed through relationship management (RM) mechanisms. Finally, they note that their study contributes to extending BC marketing literature outside of the often-used US environment and provides insights into B2B relationships in emerging markets. \n",
      "general discussion:  This research aims to provide guidance for managing an industrial business through a business cycle (BC) using marketing research, which has not been well-explored previously. The study focuses on the impact of price, cost-to-serve, and expectation of continuity variations during a BC in an emerging economy. Using a process approach with a temporal structure, the study finds that large size and market leader suppliers can survive and thrive through a BC by employing different relationship management mechanisms. \n",
      "study  multigroup analysis after the crisis:  This article examines how different economic conditions affect the relevance of several relationship management mechanisms \n",
      "\n",
      "\n",
      "Extracted insights:\n",
      " Key Insights:\n",
      "\n",
      "1. Business cycles (BCs) can impact long-term business-to-business (B2B) relationships, and understanding these effects can help firms navigate economic uncertainty.\n",
      "2. Relationship marketing (RM) mechanisms can influence supplier performance differently during times of economic crisis versus times of recovery/expansion.\n",
      "3. Six RM mechanism quadrants are proposed for effective management during economic crises and recoveries: value anticipation based on distant communication, cost-oriented joint collaboration, dyadic top management consensus, generative hard work, controlled technical deescalating, and integrated optimal balance.\n",
      "4. The findings extend previous research streams by showing that a BC brings profitability opportunities for B2B suppliers through nurturing mechanisms from long-term dyadic exchange.\n",
      "5. The study contributes to the \"dark side\" of B2B relationships' theoretical underpinnings by demonstrating how the inherent tension created in a BC can be managed through RM mechanisms.\n",
      "6. The research provides insights into B2B relationships in emerging markets and extends BC marketing literature outside of the often-used US environment.\n",
      "7. The study uses a process approach with a temporal structure to investigate the impact of price, cost-to-serve, and expectation of continuity variations during a BC in an emerging economy.\n",
      "8. Large size and market leader suppliers can survive and thrive through a BC by employing different RM mechanisms.\n"
     ]
    }
   ],
   "source": [
    "# Option 1: Extracting insights from the article using the summarized sections\n",
    "\n",
    "section_input_abstract = \"abstract: \" + abstract + section_input\n",
    "print(section_input_abstract + \"\\n\")\n",
    "\n",
    "insights = extractor.extract_insights(section_input_abstract)\n",
    "print(\"Extracted insights:\\n\" + insights)"
   ]
  },
  {
   "cell_type": "code",
   "execution_count": null,
   "metadata": {},
   "outputs": [],
   "source": [
    "# Hardcoded insights extracted by the model\n",
    "\n",
    "insights = '''\n",
    " Key Insights:\n",
    "\n",
    "1. Business cycles (BCs) can impact long-term business-to-business (B2B) relationships, and understanding these effects can help firms navigate economic uncertainty.\n",
    "2. Relationship marketing (RM) mechanisms can influence supplier performance differently during times of economic crisis versus times of recovery/expansion.\n",
    "3. Six RM mechanism quadrants are proposed for effective management during economic crises and recoveries: value anticipation based on distant communication, cost-oriented joint collaboration, dyadic top management consensus, generative hard work, controlled technical deescalating, and integrated optimal balance.\n",
    "4. The findings extend previous research streams by showing that a BC brings profitability opportunities for B2B suppliers through nurturing mechanisms from long-term dyadic exchange.\n",
    "5. The study contributes to the \"dark side\" of B2B relationships' theoretical underpinnings by demonstrating how the inherent tension created in a BC can be managed through RM mechanisms.\n",
    "6. The research provides insights into B2B relationships in emerging markets and extends BC marketing literature outside of the often-used US environment.\n",
    "7. The study uses a process approach with a temporal structure to investigate the impact of price, cost-to-serve, and expectation of continuity variations during a BC in an emerging economy.\n",
    "8. Large size and market leader suppliers can survive and thrive through a BC by employing different RM mechanisms.\n",
    "'''"
   ]
  },
  {
   "cell_type": "code",
   "execution_count": null,
   "metadata": {},
   "outputs": [],
   "source": [
    "# Option 2: Extracting insights from the article using the enriched abstract\n",
    "\n",
    "insights = extractor.extract_insights(enriched_abstract)\n",
    "print(\"Extracted insights:\\n\" + insights)"
   ]
  },
  {
   "cell_type": "code",
   "execution_count": 24,
   "metadata": {},
   "outputs": [
    {
     "name": "stdout",
     "output_type": "stream",
     "text": [
      " Navigating Economic Uncertainty: Leveraging Relationship Marketing Mechanisms to Strengthen Business-to-Business Relationships During Business Cycles\n"
     ]
    }
   ],
   "source": [
    "# Generating a meaningful title to be presented as the chat title in the interface\n",
    "\n",
    "title = extractor.generate_title(insights)\n",
    "print(title)"
   ]
  },
  {
   "cell_type": "code",
   "execution_count": null,
   "metadata": {},
   "outputs": [],
   "source": [
    "# Hardcoded title for the chat interface\n",
    "\n",
    "title = '''\n",
    " Navigating Economic Uncertainty: Leveraging Relationship Marketing Mechanisms to Strengthen Business-to-Business Relationships During Business Cycles\n",
    "'''"
   ]
  },
  {
   "cell_type": "code",
   "execution_count": 32,
   "metadata": {},
   "outputs": [
    {
     "name": "stdout",
     "output_type": "stream",
     "text": [
      "Fig. 1. Overview of the Research Method (Page:4)\n",
      "Fig. 2. Conceptual Model (Page:5)\n",
      "Table 1. Sample Characteristics (Page:6)\n",
      "Table 2. CFA Results (Page:7)\n",
      "Table 3. Construct Correlations and AVEs (Page:7)\n",
      "Table 4. MIIV-2SLS Results (Page:7)\n",
      "Table 5. Measurement Invariance (Page:9)\n",
      "Table 6. Results – Multi-group Analysis (from MLR estimation) (Page:9)\n",
      "Table 7. Mechanisms for Successful Relationship Management of a Business Cycle (BC) (Page:9)\n",
      "Fig. 3. Relationship Marketing (RM) Strategies Matrix (Page:11)\n",
      "1. Fig. 2. Conceptual Model (Page:5) - This image presents the conceptual model of the study, which highlights the relationship between the RM process mechanisms and firm performance during economic contractions and expansions. It also illustrates the three key relationship tenets proposed by the authors, which are communication openness, technical involvement, and customer value anticipation. Understanding this model is crucial to grasping the main findings and implications of the study.\n",
      "2. Table 3. Construct Correlations and AVEs (Page:7) -  This table presents the results of the confirmatory factor analysis (CFA) and shows the correlations between the constructs and the average variance extracted (AVE). The table provides evidence for the validity and reliability of the measures used in the study, which is essential for establishing the credibility of the research findings.\n",
      "3. Fig. 3. Relationship Marketing (RM) Strategies Matrix (Page:11) - This image presents a matrix that summarizes the RM strategies suggested by the authors for managing business-to-business relationships during economic contractions and expansions. The matrix includes strategies such as establishing high levels of communication without increasing technical collaboration, exploiting top management consensus, and leveraging technical involvement with customers.\n"
     ]
    }
   ],
   "source": [
    "# Choosing the most important figures/tables of the article\n",
    "\n",
    "import fitz\n",
    "\n",
    "# Open the file\n",
    "pdf_file = fitz.open(business_pdf1_path)\n",
    "titles = []\n",
    "image_title_pairs = {}\n",
    "# Iterate over PDF pages\n",
    "for page_index in range(len(pdf_file)):\n",
    "    page = pdf_file[page_index]\n",
    "    page_image_title_pairs = extract_image_title_pairs(page,page_index)\n",
    "    page_image_titles = extract_titles_from_page(page)\n",
    "    image_title_pairs.update(page_image_title_pairs)\n",
    "    for title in page_image_titles:\n",
    "        title += \" (Page:\" + str(page_index+1) + \")\"\n",
    "        print(title)\n",
    "        titles.append(title)\n",
    "\n",
    "pdf_file.close()\n",
    "\n",
    "image_titles = \"\"\n",
    "for title in titles:\n",
    "    image_titles += title + \"\\n\"\n",
    "    \n",
    "important_images = extractor.choose_images(insights, image_titles)\n",
    "#important_images = \"1. Fig. 2. Conceptual Model (Page:5) - This image presents the conceptual model of the study, which highlights the relationship between the RM process mechanisms and firm performance during economic contractions and expansions. It also illustrates the three key relationship tenets proposed by the authors, which are communication openness, technical involvement, and customer value anticipation. Understanding this model is crucial to grasping the main findings and implications of the study.\\n2. Table 3. Construct Correlations and AVEs (Page:7) -  This table presents the results of the confirmatory factor analysis (CFA) and shows the correlations between the constructs and the average variance extracted (AVE). The table provides evidence for the validity and reliability of the measures used in the study, which is essential for establishing the credibility of the research findings.\\n3. Fig. 3. Relationship Marketing (RM) Strategies Matrix (Page:11) - This image presents a matrix that summarizes the RM strategies suggested by the authors for managing business-to-business relationships during economic contractions and expansions. The matrix includes strategies such as establishing high levels of communication without increasing technical collaboration, exploiting top management consensus, and leveraging technical involvement with customers.\"\n",
    "print(important_images)"
   ]
  },
  {
   "cell_type": "code",
   "execution_count": 29,
   "metadata": {},
   "outputs": [],
   "source": [
    "# Hardcoded important images\n",
    "\n",
    "important_images = ''' \n",
    " Based on the extracted insights, the three most important images of the article are:\n",
    "\n",
    "1. Fig. 2. Conceptual Model (Page:5): This figure provides a visual representation of the research framework, highlighting the key concepts and relationships between them. It is important because it gives readers a clear understanding of the study's theoretical foundation and how the various components fit together.\n",
    "2. Table 3. Construct Correlations and AVEs (Page:7): This table presents the correlations and average variance extracteds (AVE) for the measurement model, which assess the validity and reliability of the constructs. It is significant because it supports the study's methodology and provides evidence for the acceptability of the research model.\n",
    "3. Fig. 3. Relationship Marketing (RM) Strategies Matrix (Page:11): This figure illustrates the six RM mechanism quadrants proposed by the authors for effective management during economic crises and recoveries. It is essential because it offers practical guidance for B2B suppliers in navigating business cycles and fostering long-term relationships with their clients.\n",
    "'''"
   ]
  },
  {
   "cell_type": "code",
   "execution_count": 30,
   "metadata": {},
   "outputs": [],
   "source": [
    "important_images = \"1. Fig. 2. Conceptual Model (Page:5) - This image presents the conceptual model of the study, which highlights the relationship between the RM process mechanisms and firm performance during economic contractions and expansions. It also illustrates the three key relationship tenets proposed by the authors, which are communication openness, technical involvement, and customer value anticipation. Understanding this model is crucial to grasping the main findings and implications of the study.\\n2. Table 3. Construct Correlations and AVEs (Page:7) -  This table presents the results of the confirmatory factor analysis (CFA) and shows the correlations between the constructs and the average variance extracted (AVE). The table provides evidence for the validity and reliability of the measures used in the study, which is essential for establishing the credibility of the research findings.\\n3. Fig. 3. Relationship Marketing (RM) Strategies Matrix (Page:11) - This image presents a matrix that summarizes the RM strategies suggested by the authors for managing business-to-business relationships during economic contractions and expansions. The matrix includes strategies such as establishing high levels of communication without increasing technical collaboration, exploiting top management consensus, and leveraging technical involvement with customers.\""
   ]
  },
  {
   "cell_type": "code",
   "execution_count": 33,
   "metadata": {},
   "outputs": [
    {
     "name": "stdout",
     "output_type": "stream",
     "text": [
      "5\n",
      "11\n",
      "7\n",
      "{'Fig. 3. Relationship Marketing (RM) Strategies Matrix': './images/page11/output_image0.png'}\n"
     ]
    }
   ],
   "source": [
    "# Displaying the fetched figures/tables that match the selected images\n",
    "\n",
    "important_images_list = convert_response_to_list(important_images)\n",
    "\n",
    "# Check whether the important image is extracted\n",
    "found_images = get_important_image_paths(image_title_pairs, important_images_list)\n",
    "print(found_images)"
   ]
  }
 ],
 "metadata": {
  "kernelspec": {
   "display_name": "Python 3",
   "language": "python",
   "name": "python3"
  },
  "language_info": {
   "codemirror_mode": {
    "name": "ipython",
    "version": 3
   },
   "file_extension": ".py",
   "mimetype": "text/x-python",
   "name": "python",
   "nbconvert_exporter": "python",
   "pygments_lexer": "ipython3",
   "version": "3.11.4"
  }
 },
 "nbformat": 4,
 "nbformat_minor": 2
}
