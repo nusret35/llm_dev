{
 "cells": [
  {
   "cell_type": "code",
   "execution_count": 169,
   "metadata": {},
   "outputs": [],
   "source": [
    "from summarization_pipeline.pdf_section_extractor import extract_pdf_and_divide_sections\n",
    "from summarization_pipeline.orchestration import Extractor\n",
    "from summarization_pipeline.image_processing import extract_image_title_pairs, extract_titles_from_page, convert_response_to_list, get_important_image_paths\n",
    "from summarization_pipeline.greenness_slider import configure_models"
   ]
  },
  {
   "cell_type": "code",
   "execution_count": null,
   "metadata": {},
   "outputs": [],
   "source": [
    "# Initializing the LLaMA 2 70B and 13B models after getting greenness_input from the user\n",
    "\n",
    "greenness_input = 0 #default greenness configuration\n",
    "extractor_70B_model, extractor_13B_model, max_tokens = configure_models(greenness_input)"
   ]
  },
  {
   "cell_type": "code",
   "execution_count": 170,
   "metadata": {},
   "outputs": [],
   "source": [
    "# Initializing the Extractor class for sending prompts to the LLaMA 2 70B model\n",
    "\n",
    "extractor_70B_model = Extractor(model='70B',top_p=0.6)\n",
    "extractor_13B_model = Extractor(model='13B',top_p=0.6)"
   ]
  },
  {
   "cell_type": "code",
   "execution_count": 171,
   "metadata": {},
   "outputs": [],
   "source": [
    "# Getting and preprocessing PDF input\n",
    "\n",
    "business_pdf1_path = \"/Users/nusretkizilaslan/Downloads/buss_article_2.pdf\"\n",
    "sections_dict = extract_pdf_and_divide_sections(business_pdf1_path)"
   ]
  },
  {
   "cell_type": "code",
   "execution_count": 172,
   "metadata": {},
   "outputs": [
    {
     "name": "stdout",
     "output_type": "stream",
     "text": [
      "Abstract: \n",
      "\n",
      "Important section titles:\n",
      "introduction\n",
      "conclusion\n",
      "discussion\n",
      "methodology\n",
      "managerial implications\n",
      "theoretical implications\n",
      "framework for choosing revenue models in digital services\n",
      "digital ecosystem partnership\n"
     ]
    }
   ],
   "source": [
    "# Extracting section texts of important sections \n",
    "\n",
    "abstract = sections_dict.get('abstract', \"\")\n",
    "print(\"Abstract: \" + abstract + \"\\n\")\n",
    "\n",
    "critical_sections = [\"introduction\", \"conclusion\", \"discussion\", \"methodology\"]\n",
    "\n",
    "critical_section_information = {}\n",
    "for section_name in critical_sections:\n",
    "  critical_section_information[section_name] = sections_dict.get(section_name, \"\")\n",
    "\n",
    "\"\"\"\n",
    "If at least two of the sections among \"conclusion\", \"discussion\", and \"outcomes\" are missing, \n",
    "then take the last four sections (we keep each subsection seperately in the current formulation of sections_dict) \n",
    "of the article (excluding keywords, acknowledgments, and references sections)\n",
    "\"\"\"\n",
    "check_for_absence = \"\"\n",
    "critical_section_list = list(critical_section_information.items())\n",
    "for section_name, section_text in critical_section_list[-3:]:\n",
    "    if section_text == \"\": check_for_absence += '0'\n",
    "\n",
    "if len(check_for_absence) >= 2:\n",
    "    accepted = 0\n",
    "    unwanted_sections = [\"keywords\", \"acknowledgments\", \"references\"]\n",
    "    sections_list = list(sections_dict.items())\n",
    "    for section_name, section_text in sections_list[::-1]: # Reverse iteration of the sections_list\n",
    "        section_name = section_name.lower()\n",
    "        section_text = sections_dict.get(section_name, \"\")\n",
    "        if section_name not in unwanted_sections and section_text != \"\":\n",
    "            critical_section_information[section_name] = section_text\n",
    "            accepted += 1\n",
    "            if accepted >= 4:\n",
    "                break\n",
    "\n",
    "print(\"Important section titles:\")\n",
    "for key, value in critical_section_information.items():\n",
    "    print(key)"
   ]
  },
  {
   "cell_type": "code",
   "execution_count": 173,
   "metadata": {},
   "outputs": [
    {
     "name": "stdout",
     "output_type": "stream",
     "text": [
      "Summary of introduction: \n",
      " The article discusses the challenges faced by manufacturing companies in choosing appropriate revenue models for their digital services, as they transition from traditional product-based business models to digital servitization. The authors argue that the choice of revenue model is critical in capturing value from digital services and overcoming the \"digitalization paradox,\" where companies struggle to obtain expected financial returns from their digital offerings. They identify three key factors that influence the choice of revenue models: customer digital readiness, digital service sophistication, and digital ecosystem partnerships. The study contributes to the literature by extending knowledge of digital servitization, exploring factors that influence revenue model choice, and providing an ecosystem perspective on pricing and revenue models.\n",
      "Summary of managerial implications: \n",
      " This section of the article discusses the managerial implications of the study's findings on revenue models for digital services. The authors argue that companies face challenges in selecting appropriate revenue models that align with their digital servitization goals, and that there are three key managerial implications to consider. Firstly, companies need to understand the nature and characteristics of different revenue models (subscription, usage-based, and performance-based) and choose the ones that align with their business models. Secondly, managers must develop a progressive understanding of the factors that influence their choice of revenue model, including customer digital readiness, digital service sophistication, and digital ecosystem partnerships. Finally, manufacturing companies should increase multi-actor participation in digital servitization processes and adopt a flexible approach to revenue model selection, allowing for negotiation with multiple actors and adaptation to changing underlying factors over time.\n",
      "Summary of theoretical implications: \n",
      " The article discusses the choice of revenue models for digital services in manufacturing companies undergoing digital transformation. The authors identify three influencing factors - customer digital readiness, digital service sophistication, and digital ecosystem partnerships - and propose a four-step framework to inform the choice of revenue models. They also contribute to the pricing and revenue model literature by providing insights beyond the internal view of companies offering digital services, highlighting the importance of involving ecosystem actors. The study emphasizes the criticality of selecting an appropriate revenue model for digital services, which can be subscription-based, usage-based or performance-based, and how it depends on the payment type, risk level, and contractual orientation.\n",
      "Summary of framework for choosing revenue models in digital services: \n",
      " This article proposes a framework for manufacturing companies to choose revenue models for digital services. The framework includes four steps: assessing customer digital readiness, evaluating digital service sophistication, assessing digital ecosystem partnerships, and choosing a suitable revenue model. The first step involves analyzing the customer's digital awareness, value co-creation, and contractual arrangements. Based on this analysis, companies can choose between subscription, usage-based, or performance-based models. The second step evaluates the digital service's sophistication, including data integration and analytics capabilities. Usage-based and performance-based models are more desirable for more sophisticated digital services. The third step assesses the need for data exchange and security between ecosystem actors. Performance-based models are appropriate when there is significant collaboration among actors. Finally, the fourth step involves selecting a revenue model that meets the needs concerning customers' digital readiness, digital service sophistication, and digital ecosystem partnerships.\n",
      "Summary of digital ecosystem partnership: \n",
      " The article discusses the importance of digital ecosystem partnerships in delivering digital services. Ecosystem actors such as railway operators, track contractors, infrastructure managers, and IT companies need to collaborate and share data to provide seamless digital services. Data sharing and security are critical factors that enable focal companies to deliver digital services. Sharing data allows ecosystem actors to gather precise data from diverse sources, which is necessary to leverage accurate digital services. However, data sharing requires adequate infrastructure systems to protect sensitive data from vulnerabilities. Moreover, digital ecosystem partnerships are underpinned by co-development with ecosystem partners, which involves working together to provide and develop digital services. Close cooperation with ecosystem partners can lead to the development of advanced digital services, illustrating a higher level of digital ecosystem partnership.\n"
     ]
    }
   ],
   "source": [
    "# Summarizing important sections\n",
    "    \n",
    "summarized_sections = {}\n",
    "for section_name, section_text in critical_section_information.items():\n",
    "    if section_text != \"\": \n",
    "        summary = extractor_70B_model.summarize(section_name, section_text, max_tokens)\n",
    "        summarized_sections[section_name] = summary\n",
    "        print(\"Summary of \" + section_name + \": \\n\" + summary)\n",
    "    else : summarized_sections[section_name] = None"
   ]
  },
  {
   "cell_type": "code",
   "execution_count": 174,
   "metadata": {},
   "outputs": [],
   "source": [
    "# Converting the section text information from dictionary to string\n",
    "# to feed it to the model as input\n",
    "\n",
    "def create_section_input(summarized_sections):\n",
    "    # Initialize an empty string to store the formatted output\n",
    "    section_input = \"\"\n",
    "\n",
    "    # Iterate over each key-value pair in the dictionary\n",
    "    for key, value in summarized_sections.items():\n",
    "        # Append the key and value to the string with the specified format\n",
    "        section_input += f\"{key}: {value} \\n\"\n",
    "\n",
    "    return section_input\n",
    "\n",
    "section_input = create_section_input(summarized_sections)"
   ]
  },
  {
   "cell_type": "code",
   "execution_count": 175,
   "metadata": {},
   "outputs": [
    {
     "name": "stdout",
     "output_type": "stream",
     "text": [
      "abstract: introduction:  The article discusses the challenges faced by manufacturing companies in choosing appropriate revenue models for their digital services, as they transition from traditional product-based business models to digital servitization. The authors argue that the choice of revenue model is critical in capturing value from digital services and overcoming the \"digitalization paradox,\" where companies struggle to obtain expected financial returns from their digital offerings. They identify three key factors that influence the choice of revenue models: customer digital readiness, digital service sophistication, and digital ecosystem partnerships. The study contributes to the literature by extending knowledge of digital servitization, exploring factors that influence revenue model choice, and providing an ecosystem perspective on pricing and revenue models. \n",
      "conclusion: None \n",
      "discussion: None \n",
      "methodology: None \n",
      "managerial implications:  This section of the article discusses the managerial implications of the study's findings on revenue models for digital services. The authors argue that companies face challenges in selecting appropriate revenue models that align with their digital servitization goals, and that there are three key managerial implications to consider. Firstly, companies need to understand the nature and characteristics of different revenue models (subscription, usage-based, and performance-based) and choose the ones that align with their business models. Secondly, managers must develop a progressive understanding of the factors that influence their choice of revenue model, including customer digital readiness, digital service sophistication, and digital ecosystem partnerships. Finally, manufacturing companies should increase multi-actor participation in digital servitization processes and adopt a flexible approach to revenue model selection, allowing for negotiation with multiple actors and adaptation to changing underlying factors over time. \n",
      "theoretical implications:  The article discusses the choice of revenue models for digital services in manufacturing companies undergoing digital transformation. The authors identify three influencing factors - customer digital readiness, digital service sophistication, and digital ecosystem partnerships - and propose a four-step framework to inform the choice of revenue models. They also contribute to the pricing and revenue model literature by providing insights beyond the internal view of companies offering digital services, highlighting the importance of involving ecosystem actors. The study emphasizes the criticality of selecting an appropriate revenue model for digital services, which can be subscription-based, usage-based or performance-based, and how it depends on the payment type, risk level, and contractual orientation. \n",
      "framework for choosing revenue models in digital services:  This article proposes a framework for manufacturing companies to choose revenue models for digital services. The framework includes four steps: assessing customer digital readiness, evaluating digital service sophistication, assessing digital ecosystem partnerships, and choosing a suitable revenue model. The first step involves analyzing the customer's digital awareness, value co-creation, and contractual arrangements. Based on this analysis, companies can choose between subscription, usage-based, or performance-based models. The second step evaluates the digital service's sophistication, including data integration and analytics capabilities. Usage-based and performance-based models are more desirable for more sophisticated digital services. The third step assesses the need for data exchange and security between ecosystem actors. Performance-based models are appropriate when there is significant collaboration among actors. Finally, the fourth step involves selecting a revenue model that meets the needs concerning customers' digital readiness, digital service sophistication, and digital ecosystem partnerships. \n",
      "digital ecosystem partnership:  The article discusses the importance of digital ecosystem partnerships in delivering digital services. Ecosystem actors such as railway operators, track contractors, infrastructure managers, and IT companies need to collaborate and share data to provide seamless digital services. Data sharing and security are critical factors that enable focal companies to deliver digital services. Sharing data allows ecosystem actors to gather precise data from diverse sources, which is necessary to leverage accurate digital services. However, data sharing requires adequate infrastructure systems to protect sensitive data from vulnerabilities. Moreover, digital ecosystem partnerships are underpinned by co-development with ecosystem partners, which involves working together to provide and develop digital services. Close cooperation with ecosystem partners can lead to the development of advanced digital services, illustrating a higher level of digital ecosystem partnership. \n",
      "\n",
      "\n",
      "Extracted insights:\n",
      " Sure, here are some key insights about the article you provided:\n",
      "\n",
      "* Manufacturing companies face challenges in choosing suitable revenue models for their digital services as they transition to digital servitization.\n",
      "* Three key factors influence the choice of revenue models: customer digital readiness, digital service sophistication, and digital ecosystem partnerships.\n",
      "* Companies need to understand the nature and characteristics of different revenue models (subscription, usage-based, and performance-based) and choose the ones that align with their business models.\n",
      "* A four-step framework is proposed to inform the choice of revenue models: assessing customer digital readiness, evaluating digital service sophistication, assessing digital ecosystem partnerships, and choosing a suitable revenue model.\n",
      "* Digital ecosystem partnerships are crucial in delivering digital services, and data sharing and security are critical factors that enable focal companies to deliver digital services.\n",
      "* Ecosystem actors must work together to provide and develop digital services, and close cooperation with ecosystem partners can lead to developing advanced digital services.\n"
     ]
    }
   ],
   "source": [
    "# Extracting insights from the article using the summarized sections\n",
    "\n",
    "section_input_abstract = \"abstract: \" + abstract + section_input\n",
    "print(section_input_abstract + \"\\n\")\n",
    "\n",
    "insights = extractor_70B_model.extract_insights(section_input_abstract, max_tokens)\n",
    "print(\"Extracted insights:\\n\" + insights)"
   ]
  },
  {
   "cell_type": "code",
   "execution_count": 176,
   "metadata": {},
   "outputs": [
    {
     "name": "stdout",
     "output_type": "stream",
     "text": [
      " Sure! Based on the extracted insights, here's a possible title for the article:\n",
      "\n",
      "\"Navigating Digital Servitization Revenue Models: A Four-Step Framework for Manufacturers\"\n"
     ]
    }
   ],
   "source": [
    "# Generating a meaningful title to be presented as the chat title in the interface\n",
    "\n",
    "title = extractor_13B_model.generate_title(insights)\n",
    "print(title)"
   ]
  },
  {
   "cell_type": "code",
   "execution_count": 177,
   "metadata": {},
   "outputs": [
    {
     "name": "stdout",
     "output_type": "stream",
     "text": [
      "Table 1. Seminal research on revenue models for digital servitization (Page:3)\n",
      "Table 2. Overview of studied cases and respondents (Page:5)\n",
      "Fig. 1. Data structure and coding process (Page:6)\n",
      "Fig. 2. Framework for the choice of revenue models for digital services (Page:9)\n",
      " Sure! Based on the insights extracted from the article, here are the three most important images with explanations:\n",
      "\n",
      "1. Fig. 1. Data structure and coding process (Page:6) - This figure provides a detailed overview of the data structure and coding process used in the study. It shows how the authors coded and analyzed the data, which is essential for understanding the findings of the study.\n",
      "2. Fig. 2. Framework for the choice of revenue models for digital services (Page:9) - This figure presents a comprehensive framework for choosing suitable revenue models for digital services. The framework takes into account four key factors: customer digital readiness, digital service sophistication, digital ecosystem partnerships, and revenue model alignment with business models. Understanding this framework can help manufacturing companies make informed decisions about their digital revenue strategies.\n",
      "3. Table 2. Overview of studied cases and respondents (Page:5) - This table provides an overview of the cases and respondents studied in the research. It includes information on the industry, company size, and geographic location of the cases, as well as the number of respondents and their roles within the companies. This table helps to establish the validity and generalizability of the study's findings.\n"
     ]
    }
   ],
   "source": [
    "# Choosing the most important figures/tables of the article\n",
    "\n",
    "import fitz\n",
    "\n",
    "# Open the file\n",
    "pdf_file = fitz.open(business_pdf1_path)\n",
    "titles = []\n",
    "image_title_pairs = {}\n",
    "# Iterate over PDF pages\n",
    "for page_index in range(len(pdf_file)):\n",
    "    page = pdf_file[page_index]\n",
    "    page_image_title_pairs = extract_image_title_pairs(page,page_index)\n",
    "    page_image_titles = extract_titles_from_page(page)\n",
    "    image_title_pairs.update(page_image_title_pairs)\n",
    "    for title in page_image_titles:\n",
    "        title += \" (Page:\" + str(page_index+1) + \")\"\n",
    "        print(title)\n",
    "        titles.append(title)\n",
    "\n",
    "pdf_file.close()\n",
    "\n",
    "image_titles = \"\"\n",
    "for title in titles:\n",
    "    image_titles += title + \"\\n\"\n",
    "    \n",
    "important_images = extractor_13B_model.choose_images(insights, image_titles, max_tokens)\n",
    "print(important_images)"
   ]
  },
  {
   "cell_type": "code",
   "execution_count": 178,
   "metadata": {},
   "outputs": [
    {
     "name": "stdout",
     "output_type": "stream",
     "text": [
      "{'Fig. 2. Framework for the choice of revenue models for digital services': './images/page9/output_image0.png'}\n"
     ]
    }
   ],
   "source": [
    "# Displaying the fetched figures/tables that match the selected images\n",
    "\n",
    "important_images_list = convert_response_to_list(important_images)\n",
    "\n",
    "# Check whether the important image is extracted\n",
    "found_images = get_important_image_paths(image_title_pairs, important_images_list)\n",
    "print(found_images)"
   ]
  },
  {
   "cell_type": "code",
   "execution_count": 179,
   "metadata": {},
   "outputs": [],
   "source": [
    "extractor_13B_model.close()\n",
    "extractor_70B_model.close()"
   ]
  }
 ],
 "metadata": {
  "kernelspec": {
   "display_name": "Python 3",
   "language": "python",
   "name": "python3"
  },
  "language_info": {
   "codemirror_mode": {
    "name": "ipython",
    "version": 3
   },
   "file_extension": ".py",
   "mimetype": "text/x-python",
   "name": "python",
   "nbconvert_exporter": "python",
   "pygments_lexer": "ipython3",
   "version": "3.11.4"
  }
 },
 "nbformat": 4,
 "nbformat_minor": 2
}
